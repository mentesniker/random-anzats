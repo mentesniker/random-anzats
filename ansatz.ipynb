{
 "cells": [
  {
   "cell_type": "code",
   "execution_count": 1,
   "source": [
    "from qiskit import QuantumCircuit, execute\n",
    "from qiskit.circuit import ParameterVector\n",
    "from qiskit.circuit.random import random_circuit\n",
    "import random\n",
    "from qiskit import Aer\n",
    "from qiskit.aqua.components.optimizers import ADAM\n",
    "import numpy as np"
   ],
   "outputs": [
    {
     "output_type": "stream",
     "name": "stderr",
     "text": [
      "/home/luis/.local/lib/python3.8/site-packages/qiskit/aqua/__init__.py:86: DeprecationWarning: The package qiskit.aqua is deprecated. It was moved/refactored to qiskit-terra For more information see <https://github.com/Qiskit/qiskit-aqua/blob/main/README.md#migration-guide>\n",
      "  warn_package('aqua', 'qiskit-terra')\n"
     ]
    }
   ],
   "metadata": {}
  },
  {
   "cell_type": "markdown",
   "source": [
    "Prepare 4 random 4-qubit quantum states of your choice.\n",
    "Create and train a variational circuit that transforms input states into predefined output states. Namely\n",
    "if random state 1 is provided, it returns state |0011>\n",
    "if random state 2 is provided, it returns state |0101>\n",
    "if random state 3 is provided, it returns state |1010>\n",
    "if random state 4 is provided, it returns state |1100>\n",
    "What would happen if you provided a different state?\n",
    "\n",
    "Analyze and discuss the results."
   ],
   "metadata": {}
  },
  {
   "cell_type": "code",
   "execution_count": 44,
   "source": [
    "def generate_random_circuits(seed1,seed2,seed3,seed4):\n",
    "    qc1 = random_circuit(4, 2, max_operands=3, seed=seed1)\n",
    "    qc2 = random_circuit(4, 2, max_operands=3, seed=seed2)\n",
    "    qc3 = random_circuit(4, 2, max_operands=3, seed=seed3)\n",
    "    qc4 = random_circuit(4, 2, max_operands=3, seed=seed4)\n",
    "    return [qc1,qc2,qc3,qc4]\n",
    "\n",
    "\n",
    "def get_prob_distribution(circuit,backend, params):\n",
    "    #Assign parameters using the assign_parameters method\n",
    "    bound_circuit = circuit.bind_parameters(params)\n",
    "    bound_circuit.measure_all()\n",
    "    raw_distrubution = execute(bound_circuit,backend,shots=1000).result().get_counts()\n",
    "    for key in raw_distrubution.keys():\n",
    "        raw_distrubution[key] = raw_distrubution[key]/1000\n",
    "    return raw_distrubution\n",
    "\n",
    "def cost_function(expected_val,distribution,epsilon=0.0005):\n",
    "    value = 0\n",
    "    if(expected_val in distribution):\n",
    "        value += np.log(max(epsilon,distribution[expected_val]))\n",
    "    else:\n",
    "        value += np.log(epsilon)            \n",
    "    return (-1/len(expected_val))*(value)\n",
    "        \n",
    "\n",
    "\n",
    "def objective_function(circuit, label, params):\n",
    "    n = 4\n",
    "    num_layers = 2\n",
    "    circuit.append(generate_anzats(n,num_layers),list(range(0,n)))\n",
    "    distr = get_prob_distribution(circuit,Aer.get_backend('qasm_simulator'), params )\n",
    "    return cost_function(label, distr)\n",
    "\n",
    "def train(circuit, label, init_params):\n",
    "    optimizer = ADAM(maxiter=100, )\n",
    "    objective_function = lambda params: objective_function(circuit, label, params)\n",
    "    #opt_params, value, _ = optimizer.optimize(len(init_params), objective_function, initial_point=init_params)\n",
    "    return objective_function(circuit, label, init_params)\n",
    "\n",
    "def generate_anzats(n_qubits,n_layers,type_r=None):\n",
    "\n",
    "    #ParameterVectors are initialized with a string identifier and an integer specifying the vector length\n",
    "    parameters = ParameterVector('θ', (n_qubits*(n_layers+1)))\n",
    "    circuit = QuantumCircuit(n_qubits)\n",
    "\n",
    "    for layer in range(n_layers):\n",
    "        for i in range(n_qubits):\n",
    "            if(type_r == \"qgan\"):\n",
    "                circuit.ry(parameters[n_qubits*layer+i], i)\n",
    "            else:\n",
    "                circuit.rx(parameters[n_qubits*layer+i], i)\n",
    "\n",
    "        #Appending the entangling Controlled gates\n",
    "        for i in range(n_qubits):\n",
    "            if(type_r == \"qgan\"):\n",
    "                circuit.cz(i,(i+1)%n_qubits)\n",
    "            else:\n",
    "                for j in range(i+1,n_qubits):\n",
    "                    circuit.cx(i,j)\n",
    "\n",
    "    #Appending one additional layer of parameterized Ry gates\n",
    "    for i in range(n_qubits):\n",
    "        if(type_r == \"qgan\"):\n",
    "            circuit.ry(parameters[n_qubits*(n_layers)+i], i)\n",
    "        else:\n",
    "            circuit.rx(parameters[n_qubits*(n_layers)+i], i)\n",
    "    circuit.barrier()\n",
    "    return circuit\n"
   ],
   "outputs": [],
   "metadata": {}
  },
  {
   "cell_type": "code",
   "execution_count": 45,
   "source": [
    "seed1 = 1\n",
    "seed2 = 2\n",
    "seed3 = 3\n",
    "seed4 = 4\n",
    "circuits = generate_random_circuits(seed1,seed2,seed3,seed4)\n",
    "labels = [\"0011\",\"0101\", \"1010\", \"1100\"]\n",
    "circuit = circuits[0]\n",
    "n = 4\n",
    "num_layers = 2\n",
    "param_list = [random.randint(0,20) for x in range(0,(n*(num_layers+1)))]\n",
    "objective_function(circuit, labels[0], param_list)\n",
    "train(circuit, \"0011\", param_list)\n"
   ],
   "outputs": [
    {
     "output_type": "error",
     "ename": "TypeError",
     "evalue": "<lambda>() takes 1 positional argument but 3 were given",
     "traceback": [
      "\u001b[0;31m---------------------------------------------------------------------------\u001b[0m",
      "\u001b[0;31mTypeError\u001b[0m                                 Traceback (most recent call last)",
      "\u001b[0;32m/tmp/ipykernel_198/249121854.py\u001b[0m in \u001b[0;36m<module>\u001b[0;34m\u001b[0m\n\u001b[1;32m     10\u001b[0m \u001b[0mparam_list\u001b[0m \u001b[0;34m=\u001b[0m \u001b[0;34m[\u001b[0m\u001b[0mrandom\u001b[0m\u001b[0;34m.\u001b[0m\u001b[0mrandint\u001b[0m\u001b[0;34m(\u001b[0m\u001b[0;36m0\u001b[0m\u001b[0;34m,\u001b[0m\u001b[0;36m20\u001b[0m\u001b[0;34m)\u001b[0m \u001b[0;32mfor\u001b[0m \u001b[0mx\u001b[0m \u001b[0;32min\u001b[0m \u001b[0mrange\u001b[0m\u001b[0;34m(\u001b[0m\u001b[0;36m0\u001b[0m\u001b[0;34m,\u001b[0m\u001b[0;34m(\u001b[0m\u001b[0mn\u001b[0m\u001b[0;34m*\u001b[0m\u001b[0;34m(\u001b[0m\u001b[0mnum_layers\u001b[0m\u001b[0;34m+\u001b[0m\u001b[0;36m1\u001b[0m\u001b[0;34m)\u001b[0m\u001b[0;34m)\u001b[0m\u001b[0;34m)\u001b[0m\u001b[0;34m]\u001b[0m\u001b[0;34m\u001b[0m\u001b[0;34m\u001b[0m\u001b[0m\n\u001b[1;32m     11\u001b[0m \u001b[0mobjective_function\u001b[0m\u001b[0;34m(\u001b[0m\u001b[0mcircuit\u001b[0m\u001b[0;34m,\u001b[0m \u001b[0mlabels\u001b[0m\u001b[0;34m[\u001b[0m\u001b[0;36m0\u001b[0m\u001b[0;34m]\u001b[0m\u001b[0;34m,\u001b[0m \u001b[0mparam_list\u001b[0m\u001b[0;34m)\u001b[0m\u001b[0;34m\u001b[0m\u001b[0;34m\u001b[0m\u001b[0m\n\u001b[0;32m---> 12\u001b[0;31m \u001b[0mtrain\u001b[0m\u001b[0;34m(\u001b[0m\u001b[0mcircuit\u001b[0m\u001b[0;34m,\u001b[0m \u001b[0;34m\"0011\"\u001b[0m\u001b[0;34m,\u001b[0m \u001b[0mparam_list\u001b[0m\u001b[0;34m)\u001b[0m\u001b[0;34m\u001b[0m\u001b[0;34m\u001b[0m\u001b[0m\n\u001b[0m",
      "\u001b[0;32m/tmp/ipykernel_198/3037599430.py\u001b[0m in \u001b[0;36mtrain\u001b[0;34m(circuit, label, init_params)\u001b[0m\n\u001b[1;32m     37\u001b[0m     \u001b[0mobjective_function\u001b[0m \u001b[0;34m=\u001b[0m \u001b[0;32mlambda\u001b[0m \u001b[0mparams\u001b[0m\u001b[0;34m:\u001b[0m \u001b[0mobjective_function\u001b[0m\u001b[0;34m(\u001b[0m\u001b[0mcircuit\u001b[0m\u001b[0;34m,\u001b[0m \u001b[0mlabel\u001b[0m\u001b[0;34m,\u001b[0m \u001b[0mparams\u001b[0m\u001b[0;34m)\u001b[0m\u001b[0;34m\u001b[0m\u001b[0;34m\u001b[0m\u001b[0m\n\u001b[1;32m     38\u001b[0m     \u001b[0;31m#opt_params, value, _ = optimizer.optimize(len(init_params), objective_function, initial_point=init_params)\u001b[0m\u001b[0;34m\u001b[0m\u001b[0;34m\u001b[0m\u001b[0;34m\u001b[0m\u001b[0m\n\u001b[0;32m---> 39\u001b[0;31m     \u001b[0;32mreturn\u001b[0m \u001b[0mobjective_function\u001b[0m\u001b[0;34m(\u001b[0m\u001b[0mcircuit\u001b[0m\u001b[0;34m,\u001b[0m \u001b[0mlabel\u001b[0m\u001b[0;34m,\u001b[0m \u001b[0minit_params\u001b[0m\u001b[0;34m)\u001b[0m\u001b[0;34m\u001b[0m\u001b[0;34m\u001b[0m\u001b[0m\n\u001b[0m\u001b[1;32m     40\u001b[0m \u001b[0;34m\u001b[0m\u001b[0m\n\u001b[1;32m     41\u001b[0m \u001b[0;32mdef\u001b[0m \u001b[0mgenerate_anzats\u001b[0m\u001b[0;34m(\u001b[0m\u001b[0mn_qubits\u001b[0m\u001b[0;34m,\u001b[0m\u001b[0mn_layers\u001b[0m\u001b[0;34m,\u001b[0m\u001b[0mtype_r\u001b[0m\u001b[0;34m=\u001b[0m\u001b[0;32mNone\u001b[0m\u001b[0;34m)\u001b[0m\u001b[0;34m:\u001b[0m\u001b[0;34m\u001b[0m\u001b[0;34m\u001b[0m\u001b[0m\n",
      "\u001b[0;31mTypeError\u001b[0m: <lambda>() takes 1 positional argument but 3 were given"
     ]
    }
   ],
   "metadata": {}
  }
 ],
 "metadata": {
  "orig_nbformat": 4,
  "language_info": {
   "name": "python",
   "version": "3.8.10",
   "mimetype": "text/x-python",
   "codemirror_mode": {
    "name": "ipython",
    "version": 3
   },
   "pygments_lexer": "ipython3",
   "nbconvert_exporter": "python",
   "file_extension": ".py"
  },
  "kernelspec": {
   "name": "python3",
   "display_name": "Python 3.8.10 64-bit"
  },
  "interpreter": {
   "hash": "916dbcbb3f70747c44a77c7bcd40155683ae19c65e1c03b4aa3499c5328201f1"
  }
 },
 "nbformat": 4,
 "nbformat_minor": 2
}