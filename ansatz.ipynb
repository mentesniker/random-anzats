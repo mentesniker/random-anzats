{
 "cells": [
  {
   "cell_type": "code",
   "execution_count": 14,
   "source": [
    "from qiskit import QuantumCircuit, execute\n",
    "from qiskit.circuit import ParameterVector\n",
    "import random\n",
    "from qiskit import Aer\n",
    "from qiskit.aqua.components.optimizers import ADAM\n",
    "import numpy as np"
   ],
   "outputs": [],
   "metadata": {}
  },
  {
   "cell_type": "markdown",
   "source": [
    "Prepare 4 random 4-qubit quantum states of your choice.\n",
    "Create and train a variational circuit that transforms input states into predefined output states. Namely\n",
    "if random state 1 is provided, it returns state |0011>\n",
    "if random state 2 is provided, it returns state |0101>\n",
    "if random state 3 is provided, it returns state |1010>\n",
    "if random state 4 is provided, it returns state |1100>\n",
    "What would happen if you provided a different state?\n",
    "\n",
    "Analyze and discuss the results."
   ],
   "metadata": {}
  },
  {
   "cell_type": "code",
   "execution_count": 28,
   "source": [
    "def generate_random_circuit(random_state):\n",
    "    qc = QuantumCircuit(4)\n",
    "    if(random_state == 1):\n",
    "        qc.x(random.randint(0,3))\n",
    "        qc.h(random.randint(0,3))\n",
    "    if(random_state == 2):\n",
    "        qc.x(random.randint(0,3))\n",
    "        qc.x(random.randint(0,3))\n",
    "    if(random_state == 3):\n",
    "        qc.h(random.randint(0,3))\n",
    "        qc.h(random.randint(0,3))\n",
    "    return qc\n",
    "\n",
    "\n",
    "def get_prob_distribution(circuit,backend, params):\n",
    "    #Assign parameters using the assign_parameters method\n",
    "    bound_circuit = circuit.bind_parameters(params)\n",
    "    bound_circuit.measure_all()\n",
    "    raw_distrubution = execute(bound_circuit,backend,shots=1000).result().get_counts()\n",
    "    for key in raw_distrubution.keys():\n",
    "        raw_distrubution[key] = raw_distrubution[key]/1000\n",
    "    return raw_distrubution\n",
    "\n",
    "def cost_function(expected_vals,distribution,epsilon=0.0005):\n",
    "    value = 0\n",
    "    for label in expected_vals:\n",
    "        if(label in distribution):\n",
    "            value += np.log(max(epsilon,distribution[label]))\n",
    "        else:\n",
    "            value += np.log(epsilon)\n",
    "    return (-1/len(expected_vals))*(value)\n",
    "\n",
    "\n",
    "def objective_function(self, dataPoints, expected_classes, params):\n",
    "    expects = list()\n",
    "    for point in dataPoints:\n",
    "        expects.append(self.get_expectation(point, params))\n",
    "    return self.get_cost_mse(expects, expected_classes)\n",
    "\n",
    "def train(X, Y, init_params):\n",
    "    optimizer = ADAM(maxiter=100, )\n",
    "    objective_function = lambda params: objective_function(X, Y, params)\n",
    "    opt_params, value, _ = optimizer.optimize(len(init_params), objective_function, initial_point=init_params)\n",
    "    return opt_params\n",
    "\n",
    "def generate_anzats(n_qubits,n_layers,type_r=None):\n",
    "\n",
    "    #ParameterVectors are initialized with a string identifier and an integer specifying the vector length\n",
    "    parameters = ParameterVector('θ', (n_qubits*(n_layers+1)))\n",
    "    circuit = QuantumCircuit(n_qubits)\n",
    "\n",
    "    for layer in range(n_layers):\n",
    "        for i in range(n_qubits):\n",
    "            if(type_r == \"qgan\"):\n",
    "                circuit.ry(parameters[n_qubits*layer+i], i)\n",
    "            else:\n",
    "                circuit.rx(parameters[n_qubits*layer+i], i)\n",
    "\n",
    "        #Appending the entangling Controlled gates\n",
    "        for i in range(n_qubits):\n",
    "            if(type_r == \"qgan\"):\n",
    "                circuit.cz(i,(i+1)%n_qubits)\n",
    "            else:\n",
    "                for j in range(i+1,n_qubits):\n",
    "                    circuit.cx(i,j)\n",
    "\n",
    "    #Appending one additional layer of parameterized Ry gates\n",
    "    for i in range(n_qubits):\n",
    "        if(type_r == \"qgan\"):\n",
    "            circuit.ry(parameters[n_qubits*(n_layers)+i], i)\n",
    "        else:\n",
    "            circuit.rx(parameters[n_qubits*(n_layers)+i], i)\n",
    "    circuit.barrier()\n",
    "    return circuit\n"
   ],
   "outputs": [],
   "metadata": {}
  },
  {
   "cell_type": "code",
   "execution_count": 30,
   "source": [
    "random_state = random.randint(1,4)\n",
    "circuit = generate_random_circuit(random_state)\n",
    "n = 4\n",
    "num_layers = 2\n",
    "circuit.append(generate_anzats(n,num_layers),[0,1,2,3])\n",
    "param_list = [random.randint(0,20) for x in range(0,(n*(num_layers+1)))]\n",
    "distr = get_prob_distribution(circuit,Aer.get_backend('qasm_simulator'), param_list, )\n",
    "cost_function(['0001'],dict({'0001':1}))"
   ],
   "outputs": [
    {
     "output_type": "execute_result",
     "data": {
      "text/plain": [
       "-0.0"
      ]
     },
     "metadata": {},
     "execution_count": 30
    }
   ],
   "metadata": {}
  }
 ],
 "metadata": {
  "orig_nbformat": 4,
  "language_info": {
   "name": "python",
   "version": "3.8.10",
   "mimetype": "text/x-python",
   "codemirror_mode": {
    "name": "ipython",
    "version": 3
   },
   "pygments_lexer": "ipython3",
   "nbconvert_exporter": "python",
   "file_extension": ".py"
  },
  "kernelspec": {
   "name": "python3",
   "display_name": "Python 3.8.10 64-bit"
  },
  "interpreter": {
   "hash": "916dbcbb3f70747c44a77c7bcd40155683ae19c65e1c03b4aa3499c5328201f1"
  }
 },
 "nbformat": 4,
 "nbformat_minor": 2
}